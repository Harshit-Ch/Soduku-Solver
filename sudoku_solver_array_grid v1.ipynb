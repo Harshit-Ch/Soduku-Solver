{
 "cells": [
  {
   "cell_type": "markdown",
   "metadata": {},
   "source": [
    "# Build a Sudoku Solver using just an array of sudoku"
   ]
  },
  {
   "cell_type": "markdown",
   "metadata": {},
   "source": [
    "## Import all the necessary libraries"
   ]
  },
  {
   "cell_type": "code",
   "execution_count": 3,
   "metadata": {},
   "outputs": [],
   "source": [
    "import string\n",
    "import matplotlib.pyplot as plt\n",
    "import numpy as np\n",
    "import matplotlib.image as mpimg\n",
    "import random"
   ]
  },
  {
   "cell_type": "markdown",
   "metadata": {},
   "source": [
    "## Define a Sudoku Class"
   ]
  },
  {
   "cell_type": "code",
   "execution_count": 19,
   "metadata": {},
   "outputs": [],
   "source": [
    "class sudoku():\n",
    "    def __init__(self, sudoku_array) -> None:\n",
    "        self.n = len(sudoku_array)\n",
    "        self.sqrt_n = int(np.sqrt(self.n))\n",
    "        self.sudoku_original = sudoku_array\n",
    "        self.sudoku_array = np.copy(sudoku_array)\n",
    "        self.all_allowed_values = np.arange(1,self.n+1,1)\n",
    "\n",
    "        self.subgrids_array = self.get_subgrids()\n",
    "        self.validate_n()\n",
    "        # Get occupied values in each row and column\n",
    "        self.rows_occupied = {i: [v for v in self.sudoku_array[i, :] if v > 0] for i in range(self.n)}\n",
    "        self.cols_occupied = {i: [v for v in self.sudoku_array[:, i] if v > 0] for i in range(self.n)}\n",
    "        self.rows_available = {i: [v for v in self.all_allowed_values if v not in self.rows_occupied[i]] for i in range(self.n)}\n",
    "        self.cols_available = {i: [v for v in self.all_allowed_values if v not in self.cols_occupied[i]] for i in range(self.n)}\n",
    "        # self.number_rows_availability = {i: [v for v in self.sudoku_array[i, :] if v == i] for i in range(self.n)}\n",
    "        self.available_cells = list(zip(*np.where(self.sudoku_array == 0)))\n",
    "\n",
    "    def validate_n(self):\n",
    "        if self.sqrt_n ** 2 != self.n:\n",
    "            raise ValueError(f\"Grid size {self.n} is not a perfect square.\")\n",
    "        if len(self.sudoku_array[:,0]) != self.n:\n",
    "            raise ValueError(f\"Grid size {self.n} is not a perfect square.\")\n",
    "        # for subgrid_num in range(len(self.subgrids_array)):\n",
    "        #     subgrid_values = self.subgrids_array[subgrid_num].flatten()\n",
    "        #     if len(set(subgrid_values)) != len([v for v in subgrid_values if v > 0]):\n",
    "        #         raise ValueError(f\"Subgrid {subgrid_num} contains duplicate values.\")\n",
    "        \n",
    "    def update_availability(self, x, y):\n",
    "        self.sudoku_array = self.sudoku_array\n",
    "        self.subgrids_array = self.get_subgrids()\n",
    "        # Get occupied values in each row and column\n",
    "        self.rows_occupied[x] = {i: [v for v in self.sudoku_array[i, :] if v > 0] for i in range(self.n)}\n",
    "        self.cols_occupied[y] = {i: [v for v in self.sudoku_array[:, i] if v > 0] for i in range(self.n)}\n",
    "        self.rows_available[x] = {i: [v for v in self.all_allowed_values if v not in self.rows_occupied[i]] for i in range(self.n)}\n",
    "        self.cols_available[y] = {i: [v for v in self.all_allowed_values if v not in self.cols_occupied[i]] for i in range(self.n)}\n",
    "        self.available_cells = list(zip(*np.where(self.sudoku_array == 0)))\n",
    "    \n",
    "    def insert_value(self, row, col, value):\n",
    "        self.sudoku_array[row][col] = value\n",
    "        self.update_availability(row, col)\n",
    "        return print(f\"Inserted {value} in row = {row} and column = {col}\")\n",
    "\n",
    "    \n",
    "    # Function to cut the grid into nxn subgrids\n",
    "    def get_subgrids(self):\n",
    "        subgrids = []\n",
    "        for row in range(0, self.n, self.sqrt_n):    # Loop over rows in steps of n\n",
    "            for col in range(0, self.n, self.sqrt_n):  # Loop over columns in steps of n\n",
    "                # Slice the nxn subgrid\n",
    "                subgrid = self.sudoku_array[row:row+self.sqrt_n, col:col+self.sqrt_n]\n",
    "                subgrids.append(subgrid)\n",
    "        return subgrids\n",
    "    \n",
    "    def identify_subgrid(self, row, col):\n",
    "        # Determine the row and column of the subgrid\n",
    "        subgrid_row = row // 3\n",
    "        subgrid_col = col // 3\n",
    "        \n",
    "        # Return the subgrid number (for visualization, numbering from 1 to 9)\n",
    "        subgrid_number = subgrid_row * 3 + subgrid_col\n",
    "        \n",
    "        return subgrid_number\n",
    "\n",
    "    def subgrid_features(self, row, col):\n",
    "        subgrid_num = self.identify_subgrid(row, col)\n",
    "        occupied_integers = [i for i in self.subgrids_array[subgrid_num].flatten() if i > 0]\n",
    "        available_integers = [i for i in self.all_allowed_values if i not in occupied_integers]\n",
    "        return occupied_integers, available_integers\n",
    "    \n",
    "    def solve_cell_wise(self, row, col):\n",
    "        cell_row_available = [i for i in self.rows_available[row]]\n",
    "        cell_col_available = [i for i in self.cols_available[col]]\n",
    "        cell_subgrid_available = self.subgrid_features(row, col)[1]\n",
    "        possible_values = list(set(cell_row_available).intersection(cell_col_available).intersection(cell_subgrid_available))\n",
    "        if len(possible_values) == 1:\n",
    "            self.insert_value(row, col, possible_values[0])\n",
    "        return False\n",
    "    \n",
    "    def subgrid_wise(self, grid_iter):\n",
    "        row_idx = (grid_iter-1) // self.sqrt_n\n",
    "        col_idx = (grid_iter-1) % self.sqrt_n\n",
    "        list_rows = np.arange(row_idx*self.sqrt_n, row_idx*self.sqrt_n+self.sqrt_n)\n",
    "        list_columns = np.arange(col_idx*self.sqrt_n, col_idx*self.sqrt_n+self.sqrt_n)\n",
    "        list_values_to_be_filled_in = [i for i in self.all_allowed_values if i not in self.subgrids_array[grid_iter].flatten()]\n",
    "        for num in list_values_to_be_filled_in:\n",
    "            list_available_moves = []\n",
    "            for i in list_rows:\n",
    "                if num in self.rows_available[i]:\n",
    "                    for j in list_columns:\n",
    "                        if num in self.rows_available[j]:\n",
    "                            if self.sudoku_array[i][j] > 0:\n",
    "                                pass\n",
    "                            else:\n",
    "                                list_available_moves.append([i,j])\n",
    "                        else:\n",
    "                            pass\n",
    "                else:\n",
    "                    pass\n",
    "            if len(list_available_moves) == 1:\n",
    "                self.insert_value(i, j, num)\n",
    "        return print(f\"Did iteration for Grid number: {grid_iter}\")\n",
    "\n",
    "        \n",
    "        # # cell_row_available = [i for i in self.rows_available[row]]\n",
    "        # # cell_col_available = [i for i in self.cols_available[col]]\n",
    "        # # cell_subgrid_available = self.subgrid_features(row, col)[1]\n",
    "        # return list(set(cell_row_available).intersection(cell_col_available).intersection(cell_subgrid_available))\n",
    "    \n",
    "    def print_sudoku(self):\n",
    "        for i in range(self.n):\n",
    "            if i % self.sqrt_n == 0 and i != 0:\n",
    "                print(\"-\" * self.sqrt_n*8)  # Print horizontal line after every 3rd row\n",
    "            \n",
    "            for j in range(self.n):\n",
    "                if j % self.sqrt_n == 0 and j != 0:\n",
    "                    print(\" | \", end=\"\")  # Print vertical line after every 3rd column\n",
    "                if self.sudoku_array[i][j] == 0:\n",
    "                    cell_value = \".\"\n",
    "                else:\n",
    "                    cell_value = self.sudoku_array[i][j]\n",
    "                # Print the cell value, or a dot for empty cells (0)\n",
    "                if j == self.n-1:  # End of the row, print the value and a newline\n",
    "                    print(cell_value)\n",
    "                else:\n",
    "                    print(f\"{cell_value} \", end=\"\")\n",
    "\n",
    "    def solve_sudoku(self):\n",
    "        progress = True\n",
    "        while progress:\n",
    "            progress = False\n",
    "            for row, col in self.available_cells:\n",
    "                if self.solve_cell_wise(row, col):\n",
    "                    progress = True  # If we solve at least one cell, continue solving\n",
    "\n",
    "        if len(self.available_cells) > 0:\n",
    "            print(\"Couldn't fully solve the Sudoku.\")\n",
    "        else:\n",
    "            print(\"Sudoku solved!\")"
   ]
  },
  {
   "cell_type": "code",
   "execution_count": null,
   "metadata": {},
   "outputs": [],
   "source": []
  },
  {
   "cell_type": "markdown",
   "metadata": {},
   "source": [
    "## Use an image and load it to generate the Sudoku grid"
   ]
  },
  {
   "cell_type": "code",
   "execution_count": 5,
   "metadata": {},
   "outputs": [
    {
     "name": "stdout",
     "output_type": "stream",
     "text": [
      "[[0 0 0 0 0 0 0 0 0]\n",
      " [0 0 0 0 0 0 0 0 0]\n",
      " [0 0 0 0 0 0 0 0 0]\n",
      " [0 0 0 0 0 0 0 0 0]\n",
      " [0 0 0 0 0 0 0 0 0]\n",
      " [0 0 0 0 0 0 0 0 0]\n",
      " [0 0 0 0 0 0 0 0 0]\n",
      " [0 0 0 0 0 0 0 0 0]\n",
      " [0 0 0 0 0 0 0 0 0]]\n"
     ]
    }
   ],
   "source": [
    "import cv2\n",
    "\n",
    "# Read the image\n",
    "img = cv2.imread(\"sudoku_1.png\")\n",
    "\n",
    "import cv2\n",
    "import numpy as np\n",
    "import pytesseract\n",
    "\n",
    "# Load the image\n",
    "# image = cv2.imread(\"path_to_sudoku_image.jpg\")\n",
    "\n",
    "# Convert to grayscale\n",
    "gray = cv2.cvtColor(img, cv2.COLOR_BGR2GRAY)\n",
    "\n",
    "# Apply Gaussian blur\n",
    "blur = cv2.GaussianBlur(gray, (7, 7), 0)\n",
    "\n",
    "# Adaptive thresholding to get a binary image\n",
    "thresh = cv2.adaptiveThreshold(blur, 255, cv2.ADAPTIVE_THRESH_GAUSSIAN_C, cv2.THRESH_BINARY_INV, 11, 2)\n",
    "\n",
    "# Find contours to detect the Sudoku grid\n",
    "contours, _ = cv2.findContours(thresh, cv2.RETR_EXTERNAL, cv2.CHAIN_APPROX_SIMPLE)\n",
    "\n",
    "# Sort the contours to find the largest contour which should be the grid\n",
    "contours = sorted(contours, key=cv2.contourArea, reverse=True)\n",
    "\n",
    "# Draw a rectangle around the largest contour (Sudoku grid)\n",
    "sudoku_contour = contours[0]\n",
    "cv2.drawContours(img, [sudoku_contour], -1, (0, 255, 0), 3)\n",
    "\n",
    "# Show the grid\n",
    "cv2.imshow('Detected Sudoku Grid', img)\n",
    "cv2.waitKey(0)\n",
    "cv2.destroyAllWindows()\n",
    "\n",
    "\n",
    "# Assume the grid is 450x450 pixels\n",
    "grid_size = 450\n",
    "cell_size = grid_size // 9  # Size of each cell (e.g., 50x50 pixels for a 450x450 grid)\n",
    "\n",
    "# Resize the image to a fixed size (450x450)\n",
    "grid = cv2.resize(gray, (grid_size, grid_size))\n",
    "\n",
    "# Initialize an empty 9x9 Sudoku array\n",
    "sudoku_array = np.zeros((9, 9), dtype=int)\n",
    "\n",
    "# Loop over each cell and extract the digit\n",
    "for i in range(9):\n",
    "    for j in range(9):\n",
    "        # Extract the cell\n",
    "        cell = grid[i*cell_size:(i+1)*cell_size, j*cell_size:(j+1)*cell_size]\n",
    "        \n",
    "        # Preprocess the cell for OCR (Thresholding)\n",
    "        cell = cv2.adaptiveThreshold(cell, 255, cv2.ADAPTIVE_THRESH_GAUSSIAN_C, cv2.THRESH_BINARY_INV, 11, 2)\n",
    "        \n",
    "        # Perform OCR using Tesseract\n",
    "        digit = pytesseract.image_to_string(cell, config='--psm 10 digits')\n",
    "        \n",
    "        # If the OCR detects a digit, update the array\n",
    "        if digit.isdigit():\n",
    "            sudoku_array[i, j] = int(digit)\n",
    "\n",
    "# Print the resulting Sudoku array\n",
    "print(sudoku_array)\n"
   ]
  },
  {
   "cell_type": "code",
   "execution_count": 6,
   "metadata": {},
   "outputs": [],
   "source": [
    "# Loop over each cell and extract the digit\n",
    "for i in range(9):\n",
    "    for j in range(9):\n",
    "        # Extract the cell\n",
    "        cell = grid[i*cell_size:(i+1)*cell_size, j*cell_size:(j+1)*cell_size]\n",
    "        \n",
    "        # Preprocess the cell for OCR\n",
    "        cell = cv2.resize(cell, (50, 50))  # Resize for better OCR readability\n",
    "        cell = cv2.GaussianBlur(cell, (3, 3), 0)\n",
    "        cell = cv2.adaptiveThreshold(cell, 255, cv2.ADAPTIVE_THRESH_GAUSSIAN_C, cv2.THRESH_BINARY_INV, 11, 2)\n",
    "\n",
    "        # Show each cell to make sure they are correctly processed\n",
    "        cv2.imshow(f'Cell ({i}, {j})', cell)\n",
    "        cv2.waitKey(500)  # Display for 500ms for debugging\n",
    "        cv2.destroyAllWindows()\n"
   ]
  },
  {
   "cell_type": "code",
   "execution_count": 7,
   "metadata": {},
   "outputs": [
    {
     "name": "stdout",
     "output_type": "stream",
     "text": [
      "[[5 0 0 0 3 0 0 0 0]\n",
      " [0 0 0 2 0 0 4 7 5]\n",
      " [4 0 0 0 0 0 0 0 0]\n",
      " [0 0 0 2 0 0 7 0 3]\n",
      " [0 0 0 0 8 0 0 0 0]\n",
      " [3 0 0 0 5 9 2 0 6]\n",
      " [0 0 0 0 0 0 0 4 7]\n",
      " [3 0 0 4 3 0 0 6 0]\n",
      " [0 0 0 0 2 8 0 9 1]]\n"
     ]
    }
   ],
   "source": [
    "# Loop over each cell and extract the digit\n",
    "for i in range(9):\n",
    "    for j in range(9):\n",
    "        # Extract the cell\n",
    "        cell = grid[i*cell_size:(i+1)*cell_size, j*cell_size:(j+1)*cell_size]\n",
    "        \n",
    "        # Preprocess the cell for OCR (Resize, Blur, Threshold)\n",
    "        cell = cv2.resize(cell, (50, 50))  # Resize for better OCR readability\n",
    "        cell = cv2.GaussianBlur(cell, (3, 3), 0)\n",
    "        cell = cv2.adaptiveThreshold(cell, 255, cv2.ADAPTIVE_THRESH_GAUSSIAN_C, cv2.THRESH_BINARY_INV, 11, 2)\n",
    "\n",
    "        # Apply OCR to extract the digit\n",
    "        digit = pytesseract.image_to_string(cell, config='--psm 10 -c tessedit_char_whitelist=0123456789')\n",
    "\n",
    "        # If the OCR detects a digit, update the array\n",
    "        if digit.strip().isdigit():\n",
    "            sudoku_array[i, j] = int(digit.strip())\n",
    "        else:\n",
    "            sudoku_array[i, j] = 0  # Assign zero if no digit is detected or OCR fails\n",
    "\n",
    "# Print the resulting Sudoku array\n",
    "print(sudoku_array)\n"
   ]
  },
  {
   "cell_type": "markdown",
   "metadata": {},
   "source": [
    "## Model configuration: Give a sudoku grid as an input"
   ]
  },
  {
   "cell_type": "code",
   "execution_count": 20,
   "metadata": {},
   "outputs": [],
   "source": [
    "sudoku_grid = np.array([\n",
    "    [5, 3, 0, 0, 7, 0, 0, 0, 0],\n",
    "    [6, 0, 0, 1, 9, 5, 0, 0, 0],\n",
    "    [0, 9, 8, 0, 0, 0, 0, 6, 0],\n",
    "    [8, 0, 0, 0, 6, 0, 0, 0, 3],\n",
    "    [4, 0, 0, 8, 0, 3, 0, 0, 1],\n",
    "    [7, 0, 0, 0, 2, 0, 0, 0, 6],\n",
    "    [0, 6, 0, 0, 0, 0, 2, 8, 0],\n",
    "    [0, 0, 0, 4, 1, 9, 0, 0, 5],\n",
    "    [0, 0, 0, 0, 8, 0, 0, 7, 9]\n",
    "])"
   ]
  },
  {
   "cell_type": "code",
   "execution_count": 21,
   "metadata": {},
   "outputs": [],
   "source": [
    "n_sudoku = sudoku(sudoku_grid)"
   ]
  },
  {
   "cell_type": "code",
   "execution_count": 22,
   "metadata": {},
   "outputs": [
    {
     "name": "stdout",
     "output_type": "stream",
     "text": [
      "5 3 .  | . 7 .  | . . .\n",
      "6 . .  | 1 9 5  | . . .\n",
      ". 9 8  | . . .  | . 6 .\n",
      "------------------------\n",
      "8 . .  | . 6 .  | . . 3\n",
      "4 . .  | 8 . 3  | . . 1\n",
      "7 . .  | . 2 .  | . . 6\n",
      "------------------------\n",
      ". 6 .  | . . .  | 2 8 .\n",
      ". . .  | 4 1 9  | . . 5\n",
      ". . .  | . 8 .  | . 7 9\n"
     ]
    }
   ],
   "source": [
    "n_sudoku.print_sudoku()"
   ]
  },
  {
   "cell_type": "code",
   "execution_count": 24,
   "metadata": {},
   "outputs": [
    {
     "name": "stdout",
     "output_type": "stream",
     "text": [
      "5 3 .  | . 7 .  | . . .\n",
      "6 . .  | 1 9 5  | . . .\n",
      ". 9 8  | . . .  | . 6 .\n",
      "------------------------\n",
      "8 . .  | . 6 .  | . . 3\n",
      "4 . .  | 8 5 3  | . . 1\n",
      "7 . .  | 9 2 .  | . . 6\n",
      "------------------------\n",
      ". 6 .  | . . 7  | 2 8 4\n",
      ". . .  | 4 1 9  | . 3 5\n",
      ". . .  | . 8 .  | . 7 9\n"
     ]
    }
   ],
   "source": [
    "n_sudoku.print_sudoku()"
   ]
  },
  {
   "cell_type": "code",
   "execution_count": 23,
   "metadata": {},
   "outputs": [
    {
     "name": "stdout",
     "output_type": "stream",
     "text": [
      "Inserted 5 in row = 4 and column = 4\n",
      "Inserted 9 in row = 5 and column = 3\n",
      "Inserted 7 in row = 6 and column = 5\n",
      "Inserted 4 in row = 6 and column = 8\n",
      "Inserted 3 in row = 7 and column = 7\n",
      "Couldn't fully solve the Sudoku.\n"
     ]
    }
   ],
   "source": [
    "n_sudoku.solve_sudoku()"
   ]
  },
  {
   "cell_type": "code",
   "execution_count": 29,
   "metadata": {},
   "outputs": [
    {
     "data": {
      "text/plain": [
       "2"
      ]
     },
     "execution_count": 29,
     "metadata": {},
     "output_type": "execute_result"
    }
   ],
   "source": [
    "(8 - 1) // 3"
   ]
  },
  {
   "cell_type": "code",
   "execution_count": 39,
   "metadata": {},
   "outputs": [],
   "source": [
    "n = 9\n",
    "row_idx = (n-1) // 3\n",
    "col_idx = (n-1) % 3\n",
    "get_list_rows = np.arange(row_idx*3, row_idx*3+3)\n",
    "get_list_columns = np.arange(col_idx*3, col_idx*3+3)"
   ]
  },
  {
   "cell_type": "code",
   "execution_count": 40,
   "metadata": {},
   "outputs": [
    {
     "data": {
      "text/plain": [
       "array([6, 7, 8])"
      ]
     },
     "execution_count": 40,
     "metadata": {},
     "output_type": "execute_result"
    }
   ],
   "source": [
    "get_list_rows"
   ]
  },
  {
   "cell_type": "code",
   "execution_count": 41,
   "metadata": {},
   "outputs": [
    {
     "data": {
      "text/plain": [
       "array([6, 7, 8])"
      ]
     },
     "execution_count": 41,
     "metadata": {},
     "output_type": "execute_result"
    }
   ],
   "source": [
    "get_list_columns"
   ]
  },
  {
   "cell_type": "code",
   "execution_count": null,
   "metadata": {},
   "outputs": [],
   "source": []
  }
 ],
 "metadata": {
  "kernelspec": {
   "display_name": "myenv",
   "language": "python",
   "name": "python3"
  },
  "language_info": {
   "codemirror_mode": {
    "name": "ipython",
    "version": 3
   },
   "file_extension": ".py",
   "mimetype": "text/x-python",
   "name": "python",
   "nbconvert_exporter": "python",
   "pygments_lexer": "ipython3",
   "version": "3.13.0"
  }
 },
 "nbformat": 4,
 "nbformat_minor": 2
}
