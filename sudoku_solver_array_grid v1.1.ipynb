{
 "cells": [
  {
   "cell_type": "markdown",
   "metadata": {},
   "source": [
    "# Build a Sudoku Solver using just an array of sudoku"
   ]
  },
  {
   "cell_type": "markdown",
   "metadata": {},
   "source": [
    "## Import all the necessary libraries"
   ]
  },
  {
   "cell_type": "code",
   "execution_count": 1,
   "metadata": {},
   "outputs": [],
   "source": [
    "import string\n",
    "import numpy as np\n",
    "import random"
   ]
  },
  {
   "cell_type": "markdown",
   "metadata": {},
   "source": [
    "## Define a Sudoku Class"
   ]
  },
  {
   "cell_type": "code",
   "execution_count": null,
   "metadata": {},
   "outputs": [],
   "source": [
    "import numpy as np\n",
    "\n",
    "class sudoku():\n",
    "    def __init__(self, sudoku_array) -> None:\n",
    "        self.n = len(sudoku_array)\n",
    "        self.sqrt_n = int(np.sqrt(self.n))\n",
    "        self.sudoku_original = sudoku_array\n",
    "        self.sudoku_array = np.copy(sudoku_array)\n",
    "        self.all_allowed_values = np.arange(1, self.n+1, 1)\n",
    "\n",
    "        self.subgrids_array = self.get_subgrids()\n",
    "        self.validate_n()\n",
    "        # Get occupied values in each row and column\n",
    "        self.rows_occupied = {i: [v for v in self.sudoku_array[i, :] if v > 0] for i in range(self.n)}\n",
    "        self.cols_occupied = {i: [v for v in self.sudoku_array[:, i] if v > 0] for i in range(self.n)}\n",
    "        self.rows_available = {i: [v for v in self.all_allowed_values if v not in self.rows_occupied[i]] for i in range(self.n)}\n",
    "        self.cols_available = {i: [v for v in self.all_allowed_values if v not in self.cols_occupied[i]] for i in range(self.n)}\n",
    "        self.available_cells = list(zip(*np.where(self.sudoku_array == 0)))\n",
    "\n",
    "    def validate_n(self):\n",
    "        if self.sqrt_n ** 2 != self.n:\n",
    "            raise ValueError(f\"Grid size {self.n} is not a perfect square.\")\n",
    "        if len(self.sudoku_array[:, 0]) != self.n:\n",
    "            raise ValueError(f\"Grid size {self.n} is not a perfect square.\")\n",
    "        for subgrid_num in range(len(self.subgrids_array)):\n",
    "            subgrid_values = [v for v in self.subgrids_array[subgrid_num].flatten() if v > 0]  # ignore zeros\n",
    "            if len(set(subgrid_values)) != len(subgrid_values):\n",
    "                raise ValueError(f\"Subgrid {subgrid_num} contains duplicate values.\")\n",
    "\n",
    "    def update_availability(self, x, y):\n",
    "        self.subgrids_array = self.get_subgrids()\n",
    "        # update only the affected row/col\n",
    "        self.rows_occupied[x] = [v for v in self.sudoku_array[x, :] if v > 0]\n",
    "        self.cols_occupied[y] = [v for v in self.sudoku_array[:, y] if v > 0]\n",
    "        self.rows_available[x] = [v for v in self.all_allowed_values if v not in self.rows_occupied[x]]\n",
    "        self.cols_available[y] = [v for v in self.all_allowed_values if v not in self.cols_occupied[y]]\n",
    "        self.available_cells = list(zip(*np.where(self.sudoku_array == 0)))\n",
    "\n",
    "    def insert_value(self, row, col, value, verbose):\n",
    "        self.sudoku_array[row][col] = value\n",
    "        self.update_availability(row, col)\n",
    "        if verbose:\n",
    "            print(f\"Inserted {value} in row = {row}, column = {col}\")\n",
    "\n",
    "    # Function to cut the grid into nxn subgrids\n",
    "    def get_subgrids(self):\n",
    "        subgrids = []\n",
    "        for row in range(0, self.n, self.sqrt_n):\n",
    "            for col in range(0, self.n, self.sqrt_n):\n",
    "                subgrid = self.sudoku_array[row:row+self.sqrt_n, col:col+self.sqrt_n]\n",
    "                subgrids.append(subgrid)\n",
    "        return subgrids\n",
    "\n",
    "    def identify_subgrid(self, row, col):\n",
    "        subgrid_row = row // self.sqrt_n\n",
    "        subgrid_col = col // self.sqrt_n\n",
    "        subgrid_number = subgrid_row * self.sqrt_n + subgrid_col\n",
    "        return subgrid_number\n",
    "\n",
    "    def subgrid_features(self, row, col):\n",
    "        subgrid_num = self.identify_subgrid(row, col)\n",
    "        occupied_integers = [i for i in self.subgrids_array[subgrid_num].flatten() if i > 0]\n",
    "        available_integers = [i for i in self.all_allowed_values if i not in occupied_integers]\n",
    "        return occupied_integers, available_integers\n",
    "\n",
    "    def solve_cell_wise(self, row, col, verbose):\n",
    "        cell_row_available = self.rows_available[row]\n",
    "        cell_col_available = self.cols_available[col]\n",
    "        cell_subgrid_available = self.subgrid_features(row, col)[1]\n",
    "        possible_values = list(set(cell_row_available).intersection(cell_col_available).intersection(cell_subgrid_available))\n",
    "        if len(possible_values) == 1:\n",
    "            self.insert_value(row, col, possible_values[0], verbose)\n",
    "            return True\n",
    "        return False\n",
    "\n",
    "    def subgrid_wise(self, grid_iter, verbose):\n",
    "        row_idx = grid_iter // self.sqrt_n\n",
    "        col_idx = grid_iter % self.sqrt_n\n",
    "        list_rows = np.arange(row_idx*self.sqrt_n, (row_idx+1)*self.sqrt_n)\n",
    "        list_columns = np.arange(col_idx*self.sqrt_n, (col_idx+1)*self.sqrt_n)\n",
    "        list_values_to_be_filled_in = [i for i in self.all_allowed_values if i not in self.subgrids_array[grid_iter].flatten()]\n",
    "\n",
    "        progress = False\n",
    "        for num in list_values_to_be_filled_in:\n",
    "            list_available_moves = []\n",
    "            for i in list_rows:\n",
    "                if num in self.rows_available[i]:\n",
    "                    for j in list_columns:\n",
    "                        if num in self.cols_available[j]:\n",
    "                            if self.sudoku_array[i][j] == 0:\n",
    "                                list_available_moves.append([i, j])\n",
    "            if len(list_available_moves) == 1:\n",
    "                i, j = list_available_moves[0]\n",
    "                self.insert_value(i, j, num, verbose)\n",
    "                progress = True\n",
    "        return progress\n",
    "\n",
    "    def print_sudoku(self):\n",
    "        for i in range(self.n):\n",
    "            if i % self.sqrt_n == 0 and i != 0:\n",
    "                print(\"-\" * (self.sqrt_n * 8))\n",
    "            for j in range(self.n):\n",
    "                if j % self.sqrt_n == 0 and j != 0:\n",
    "                    print(\" | \", end=\"\")\n",
    "                if self.sudoku_array[i][j] == 0:\n",
    "                    cell_value = \".\"\n",
    "                else:\n",
    "                    cell_value = self.sudoku_array[i][j]\n",
    "                if j == self.n-1:\n",
    "                    print(cell_value)\n",
    "                else:\n",
    "                    print(f\"{cell_value} \", end=\"\")\n",
    "\n",
    "    def solve_sudoku(self, verbose = False):\n",
    "        progress = True\n",
    "        while progress:\n",
    "            progress = False\n",
    "            for row, col in list(self.available_cells):  # copy to avoid mutation issues\n",
    "                if self.solve_cell_wise(row, col, verbose):\n",
    "                    progress = True\n",
    "            for grid_iter in range(len(self.subgrids_array)):\n",
    "                if self.subgrid_wise(grid_iter, verbose):\n",
    "                    progress = True\n",
    "\n",
    "        if len(self.available_cells) > 0:\n",
    "            print(\"Couldn't fully solve the Sudoku using human methods, trying brute force\")\n",
    "            print(\"Current Sudoku state is: \")\n",
    "            self.print_sudoku()\n",
    "            self.backtrack_solve(verbose)\n",
    "            if len(self.available_cells) > 0:\n",
    "                print(\"Couldn't fully solve the Sudoku!\")\n",
    "            print(\"Sudoku solved with backtracking!\")\n",
    "        else:\n",
    "            print(\"Sudoku solved!\")\n",
    "\n",
    "\n",
    "    def backtrack_solve(self, verbose):\n",
    "        if len(self.available_cells) == 0:\n",
    "            return True  # all cells filled\n",
    "\n",
    "        # Pick the first empty cell\n",
    "        row, col = self.available_cells[0]\n",
    "\n",
    "        # Try all possible values for that cell\n",
    "        _, possible_values = self.subgrid_features(row, col)\n",
    "        for value in possible_values:\n",
    "            # check row/col availability\n",
    "            if value in self.rows_available[row] and value in self.cols_available[col]:\n",
    "                # place value\n",
    "                self.insert_value(row, col, value, verbose)\n",
    "                if self.backtrack_solve(verbose):  # recursive call\n",
    "                    return True\n",
    "                # undo placement (backtrack)\n",
    "                self.sudoku_array[row][col] = 0\n",
    "                self.update_availability(row, col)\n",
    "\n",
    "        return False  # no valid value found, backtrack"
   ]
  },
  {
   "cell_type": "code",
   "execution_count": null,
   "metadata": {},
   "outputs": [],
   "source": []
  },
  {
   "cell_type": "markdown",
   "metadata": {},
   "source": [
    "## Model configuration: Give a sudoku grid as an input"
   ]
  },
  {
   "cell_type": "markdown",
   "metadata": {},
   "source": [
    "### Unique Solution"
   ]
  },
  {
   "cell_type": "code",
   "execution_count": 67,
   "metadata": {},
   "outputs": [],
   "source": [
    "sudoku_grid = np.array([\n",
    "    [5, 3, 0, 0, 7, 0, 0, 0, 0],\n",
    "    [6, 0, 0, 1, 9, 5, 0, 0, 0],\n",
    "    [0, 9, 8, 0, 0, 0, 0, 6, 0],\n",
    "    [8, 0, 0, 0, 6, 0, 0, 0, 3],\n",
    "    [4, 0, 0, 8, 0, 3, 0, 0, 1],\n",
    "    [7, 0, 0, 0, 2, 0, 0, 0, 6],\n",
    "    [0, 6, 0, 0, 0, 0, 2, 8, 0],\n",
    "    [0, 0, 0, 4, 1, 9, 0, 0, 5],\n",
    "    [0, 0, 0, 0, 8, 0, 0, 7, 9],\n",
    "])"
   ]
  },
  {
   "cell_type": "code",
   "execution_count": 68,
   "metadata": {},
   "outputs": [],
   "source": [
    "n_sudoku = sudoku(sudoku_grid)"
   ]
  },
  {
   "cell_type": "code",
   "execution_count": 69,
   "metadata": {},
   "outputs": [
    {
     "name": "stdout",
     "output_type": "stream",
     "text": [
      "5 3 .  | . 7 .  | . . .\n",
      "6 . .  | 1 9 5  | . . .\n",
      ". 9 8  | . . .  | . 6 .\n",
      "------------------------\n",
      "8 . .  | . 6 .  | . . 3\n",
      "4 . .  | 8 . 3  | . . 1\n",
      "7 . .  | . 2 .  | . . 6\n",
      "------------------------\n",
      ". 6 .  | . . .  | 2 8 .\n",
      ". . .  | 4 1 9  | . . 5\n",
      ". . .  | . 8 .  | . 7 9\n"
     ]
    }
   ],
   "source": [
    "n_sudoku.print_sudoku()"
   ]
  },
  {
   "cell_type": "code",
   "execution_count": 70,
   "metadata": {},
   "outputs": [
    {
     "name": "stdout",
     "output_type": "stream",
     "text": [
      "Sudoku solved!\n"
     ]
    }
   ],
   "source": [
    "n_sudoku.solve_sudoku(verbose=False)"
   ]
  },
  {
   "cell_type": "code",
   "execution_count": 71,
   "metadata": {},
   "outputs": [
    {
     "name": "stdout",
     "output_type": "stream",
     "text": [
      "5 3 4  | 6 7 8  | 9 1 2\n",
      "6 7 2  | 1 9 5  | 3 4 8\n",
      "1 9 8  | 3 4 2  | 5 6 7\n",
      "------------------------\n",
      "8 5 9  | 7 6 1  | 4 2 3\n",
      "4 2 6  | 8 5 3  | 7 9 1\n",
      "7 1 3  | 9 2 4  | 8 5 6\n",
      "------------------------\n",
      "9 6 1  | 5 3 7  | 2 8 4\n",
      "2 8 7  | 4 1 9  | 6 3 5\n",
      "3 4 5  | 2 8 6  | 1 7 9\n"
     ]
    }
   ],
   "source": [
    "n_sudoku.print_sudoku()"
   ]
  },
  {
   "cell_type": "markdown",
   "metadata": {},
   "source": [
    "### No unique solution"
   ]
  },
  {
   "cell_type": "code",
   "execution_count": 62,
   "metadata": {},
   "outputs": [],
   "source": [
    "sudoku_grid = np.array([\n",
    "    [5, 7, 0, 6, 9, 0, 0, 0, 0],\n",
    "    [0, 8, 0, 2, 3, 1, 4, 7, 5],\n",
    "    [4, 3, 0, 0, 0, 0, 0, 0, 0],\n",
    "    [9, 0, 6, 1, 4, 0, 7, 0, 3],\n",
    "    [0, 0, 0, 0, 8, 0, 0, 0, 0],\n",
    "    [8, 0, 3, 0, 5, 9, 2, 0, 6],\n",
    "    [0, 0, 0, 0, 0, 0, 0, 4, 7],\n",
    "    [3, 9, 5, 4, 1, 7, 0, 6, 0],\n",
    "    [0, 0, 0, 0, 2, 8, 0, 9, 1]\n",
    "])"
   ]
  },
  {
   "cell_type": "code",
   "execution_count": 63,
   "metadata": {},
   "outputs": [],
   "source": [
    "n_sudoku = sudoku(sudoku_grid)"
   ]
  },
  {
   "cell_type": "code",
   "execution_count": 64,
   "metadata": {},
   "outputs": [
    {
     "name": "stdout",
     "output_type": "stream",
     "text": [
      "5 7 .  | 6 9 .  | . . .\n",
      ". 8 .  | 2 3 1  | 4 7 5\n",
      "4 3 .  | . . .  | . . .\n",
      "------------------------\n",
      "9 . 6  | 1 4 .  | 7 . 3\n",
      ". . .  | . 8 .  | . . .\n",
      "8 . 3  | . 5 9  | 2 . 6\n",
      "------------------------\n",
      ". . .  | . . .  | . 4 7\n",
      "3 9 5  | 4 1 7  | . 6 .\n",
      ". . .  | . 2 8  | . 9 1\n"
     ]
    }
   ],
   "source": [
    "n_sudoku.print_sudoku()"
   ]
  },
  {
   "cell_type": "code",
   "execution_count": 65,
   "metadata": {},
   "outputs": [
    {
     "name": "stdout",
     "output_type": "stream",
     "text": [
      "Couldn't fully solve the Sudoku using human methods, trying brute force\n",
      "Current Sudoku state is: \n",
      "5 7 2  | 6 9 4  | 1 3 8\n",
      "6 8 9  | 2 3 1  | 4 7 5\n",
      "4 3 1  | 8 7 5  | 6 2 9\n",
      "------------------------\n",
      "9 5 6  | 1 4 2  | 7 8 3\n",
      ". . 7  | 3 8 6  | 9 5 4\n",
      "8 4 3  | 7 5 9  | 2 1 6\n",
      "------------------------\n",
      ". . 8  | 9 6 3  | 5 4 7\n",
      "3 9 5  | 4 1 7  | 8 6 2\n",
      "7 6 4  | 5 2 8  | 3 9 1\n",
      "Sudoku solved with backtracking!\n"
     ]
    }
   ],
   "source": [
    "\n",
    "n_sudoku.solve_sudoku(verbose = False)"
   ]
  },
  {
   "cell_type": "code",
   "execution_count": 66,
   "metadata": {},
   "outputs": [
    {
     "name": "stdout",
     "output_type": "stream",
     "text": [
      "5 7 2  | 6 9 4  | 1 3 8\n",
      "6 8 9  | 2 3 1  | 4 7 5\n",
      "4 3 1  | 8 7 5  | 6 2 9\n",
      "------------------------\n",
      "9 5 6  | 1 4 2  | 7 8 3\n",
      "1 2 7  | 3 8 6  | 9 5 4\n",
      "8 4 3  | 7 5 9  | 2 1 6\n",
      "------------------------\n",
      "2 1 8  | 9 6 3  | 5 4 7\n",
      "3 9 5  | 4 1 7  | 8 6 2\n",
      "7 6 4  | 5 2 8  | 3 9 1\n"
     ]
    }
   ],
   "source": [
    "n_sudoku.print_sudoku()"
   ]
  },
  {
   "cell_type": "code",
   "execution_count": null,
   "metadata": {},
   "outputs": [],
   "source": []
  }
 ],
 "metadata": {
  "kernelspec": {
   "display_name": "myenv",
   "language": "python",
   "name": "python3"
  },
  "language_info": {
   "codemirror_mode": {
    "name": "ipython",
    "version": 3
   },
   "file_extension": ".py",
   "mimetype": "text/x-python",
   "name": "python",
   "nbconvert_exporter": "python",
   "pygments_lexer": "ipython3",
   "version": "3.13.0"
  }
 },
 "nbformat": 4,
 "nbformat_minor": 2
}
