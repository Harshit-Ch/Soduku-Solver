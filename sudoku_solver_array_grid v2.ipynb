{
 "cells": [
  {
   "cell_type": "markdown",
   "metadata": {},
   "source": [
    "# Build a Sudoku Solver using just an array of sudoku"
   ]
  },
  {
   "cell_type": "markdown",
   "metadata": {},
   "source": [
    "## Import all the necessary libraries"
   ]
  },
  {
   "cell_type": "code",
   "execution_count": 2,
   "metadata": {},
   "outputs": [],
   "source": [
    "import string\n",
    "import matplotlib.pyplot as plt\n",
    "import numpy as np\n",
    "import matplotlib.image as mpimg\n",
    "import random"
   ]
  },
  {
   "cell_type": "markdown",
   "metadata": {},
   "source": [
    "## Define a Sudoku Class"
   ]
  },
  {
   "cell_type": "code",
   "execution_count": null,
   "metadata": {},
   "outputs": [],
   "source": [
    "import numpy as np\n",
    "\n",
    "class sudoku:\n",
    "    def __init__(self, sudoku_array):\n",
    "        self.grid = np.copy(sudoku_array)\n",
    "        self.n = len(sudoku_array)\n",
    "        self.sudoku_array = np.copy(sudoku_array)\n",
    "        self.sqrt_n = int(np.sqrt(self.n))\n",
    "        self.solutions = []\n",
    "\n",
    "    def find_empty(self):\n",
    "        for i in range(self.n):\n",
    "            for j in range(self.n):\n",
    "                if self.grid[i][j] == 0:\n",
    "                    return i, j\n",
    "        return None\n",
    "\n",
    "    def is_valid(self, row, col, val):\n",
    "        # Check row\n",
    "        if val in self.grid[row, :]:\n",
    "            return False\n",
    "        # Check col\n",
    "        if val in self.grid[:, col]:\n",
    "            return False\n",
    "        # Check subgrid\n",
    "        start_row = (row // self.sqrt_n) * self.sqrt_n\n",
    "        start_col = (col // self.sqrt_n) * self.sqrt_n\n",
    "        if val in self.grid[start_row:start_row+self.sqrt_n, start_col:start_col+self.sqrt_n]:\n",
    "            return False\n",
    "        return True\n",
    "\n",
    "    def solve(self, find_all=False):\n",
    "        empty = self.find_empty()\n",
    "        if not empty:\n",
    "            # deep copy the solved grid\n",
    "            self.solutions.append(np.copy(self.grid))\n",
    "            return not find_all  # stop early if only 1 solution needed\n",
    "\n",
    "        row, col = empty\n",
    "        for val in range(1, self.n+1):\n",
    "            if self.is_valid(row, col, val):\n",
    "                self.grid[row][col] = val\n",
    "                if self.solve(find_all=find_all):\n",
    "                    return True\n",
    "                self.grid[row][col] = 0  # undo\n",
    "\n",
    "        return False\n",
    "\n",
    "    def get_solutions(self, find_all=True):\n",
    "        self.solutions = []\n",
    "        self.solve(find_all=find_all)\n",
    "        return self.solutions\n",
    "    \n",
    "\n",
    "    def print_grid(self, grid=None):\n",
    "        if grid is None:\n",
    "            grid = self.grid\n",
    "        for i in range(self.n):\n",
    "            if i % self.sqrt_n == 0 and i != 0:\n",
    "                print(\"-\" * (self.sqrt_n * 8))\n",
    "            for j in range(self.n):\n",
    "                if j % self.sqrt_n == 0 and j != 0:\n",
    "                    print(\" | \", end=\"\")\n",
    "                val = grid[i][j]\n",
    "                print(val if val != 0 else \".\", end=\" \")\n",
    "            print()\n",
    "\n",
    "    def print_sudoku(self, soltion = None):\n",
    "        for i in range(self.n):\n",
    "            if i % self.sqrt_n == 0 and i != 0:\n",
    "                print(\"-\" * (self.sqrt_n * 8))\n",
    "            for j in range(self.n):\n",
    "                if j % self.sqrt_n == 0 and j != 0:\n",
    "                    print(\" | \", end=\"\")\n",
    "                if self.sudoku_array[i][j] == 0:\n",
    "                    cell_value = \".\"\n",
    "                else:\n",
    "                    cell_value = self.sudoku_array[i][j]\n",
    "                if j == self.n-1:\n",
    "                    print(cell_value)\n",
    "                else:\n",
    "                    print(f\"{cell_value} \", end=\"\")\n"
   ]
  },
  {
   "cell_type": "code",
   "execution_count": null,
   "metadata": {},
   "outputs": [],
   "source": []
  },
  {
   "cell_type": "markdown",
   "metadata": {},
   "source": [
    "## Model configuration: Give a sudoku grid as an input"
   ]
  },
  {
   "cell_type": "code",
   "execution_count": 58,
   "metadata": {},
   "outputs": [],
   "source": [
    "sudoku_grid = np.array([\n",
    "    [5, 7, 0, 6, 9, 0, 0, 0, 0],\n",
    "    [0, 8, 0, 2, 3, 1, 4, 7, 5],\n",
    "    [4, 3, 0, 0, 0, 0, 0, 0, 0],\n",
    "    [9, 0, 6, 1, 4, 0, 7, 0, 3],\n",
    "    [0, 0, 0, 0, 8, 0, 0, 0, 0],\n",
    "    [8, 0, 3, 0, 5, 9, 2, 0, 6],\n",
    "    [0, 0, 0, 0, 0, 0, 0, 4, 7],\n",
    "    [3, 9, 5, 4, 1, 7, 0, 6, 0],\n",
    "    [0, 0, 0, 0, 2, 8, 0, 9, 1]\n",
    "])"
   ]
  },
  {
   "cell_type": "code",
   "execution_count": 59,
   "metadata": {},
   "outputs": [],
   "source": [
    "n_sudoku = sudoku(sudoku_grid)"
   ]
  },
  {
   "cell_type": "code",
   "execution_count": 60,
   "metadata": {},
   "outputs": [
    {
     "name": "stdout",
     "output_type": "stream",
     "text": [
      "5 7 .  | 6 9 .  | . . .\n",
      ". 8 .  | 2 3 1  | 4 7 5\n",
      "4 3 .  | . . .  | . . .\n",
      "------------------------\n",
      "9 . 6  | 1 4 .  | 7 . 3\n",
      ". . .  | . 8 .  | . . .\n",
      "8 . 3  | . 5 9  | 2 . 6\n",
      "------------------------\n",
      ". . .  | . . .  | . 4 7\n",
      "3 9 5  | 4 1 7  | . 6 .\n",
      ". . .  | . 2 8  | . 9 1\n"
     ]
    }
   ],
   "source": [
    "n_sudoku.print_sudoku()"
   ]
  },
  {
   "cell_type": "code",
   "execution_count": 68,
   "metadata": {},
   "outputs": [],
   "source": [
    "solutions = n_sudoku.get_solutions(find_all=True)"
   ]
  },
  {
   "cell_type": "code",
   "execution_count": 69,
   "metadata": {},
   "outputs": [
    {
     "name": "stdout",
     "output_type": "stream",
     "text": [
      "Found 2 solution(s).\n",
      "\n",
      "Solution 1:\n",
      "5 7 2  | 6 9 4  | 1 3 8 \n",
      "6 8 9  | 2 3 1  | 4 7 5 \n",
      "4 3 1  | 8 7 5  | 6 2 9 \n",
      "------------------------\n",
      "9 5 6  | 1 4 2  | 7 8 3 \n",
      "1 2 7  | 3 8 6  | 9 5 4 \n",
      "8 4 3  | 7 5 9  | 2 1 6 \n",
      "------------------------\n",
      "2 1 8  | 9 6 3  | 5 4 7 \n",
      "3 9 5  | 4 1 7  | 8 6 2 \n",
      "7 6 4  | 5 2 8  | 3 9 1 \n",
      "\n",
      "Solution 2:\n",
      "5 7 2  | 6 9 4  | 1 3 8 \n",
      "6 8 9  | 2 3 1  | 4 7 5 \n",
      "4 3 1  | 8 7 5  | 6 2 9 \n",
      "------------------------\n",
      "9 5 6  | 1 4 2  | 7 8 3 \n",
      "2 1 7  | 3 8 6  | 9 5 4 \n",
      "8 4 3  | 7 5 9  | 2 1 6 \n",
      "------------------------\n",
      "1 2 8  | 9 6 3  | 5 4 7 \n",
      "3 9 5  | 4 1 7  | 8 6 2 \n",
      "7 6 4  | 5 2 8  | 3 9 1 \n"
     ]
    }
   ],
   "source": [
    "print(f\"Found {len(solutions)} solution(s).\")\n",
    "for i, sol in enumerate(solutions, 1):\n",
    "    print(f\"\\nSolution {i}:\")\n",
    "    n_sudoku.print_grid(sol)"
   ]
  },
  {
   "cell_type": "code",
   "execution_count": null,
   "metadata": {},
   "outputs": [],
   "source": []
  }
 ],
 "metadata": {
  "kernelspec": {
   "display_name": "myenv",
   "language": "python",
   "name": "python3"
  },
  "language_info": {
   "codemirror_mode": {
    "name": "ipython",
    "version": 3
   },
   "file_extension": ".py",
   "mimetype": "text/x-python",
   "name": "python",
   "nbconvert_exporter": "python",
   "pygments_lexer": "ipython3",
   "version": "3.13.0"
  }
 },
 "nbformat": 4,
 "nbformat_minor": 2
}
