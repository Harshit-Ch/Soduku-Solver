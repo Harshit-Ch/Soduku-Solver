{
 "cells": [
  {
   "cell_type": "markdown",
   "metadata": {},
   "source": [
    "# Build a Sudoku Solver using just an array of sudoku"
   ]
  },
  {
   "cell_type": "markdown",
   "metadata": {},
   "source": [
    "## Import all the necessary libraries"
   ]
  },
  {
   "cell_type": "code",
   "execution_count": 1,
   "metadata": {},
   "outputs": [],
   "source": [
    "import string\n",
    "import matplotlib.pyplot as plt\n",
    "import numpy as np\n",
    "import matplotlib.image as mpimg\n",
    "import random"
   ]
  },
  {
   "cell_type": "markdown",
   "metadata": {},
   "source": [
    "## Define a Sudoku Class"
   ]
  },
  {
   "cell_type": "code",
   "execution_count": 22,
   "metadata": {},
   "outputs": [],
   "source": [
    "# class sudoku():\n",
    "#     def __init__(self, sudoku_array) -> None:\n",
    "#         self.n = len(sudoku_array)\n",
    "#         self.sqrt_n = int(np.sqrt(self.n))\n",
    "#         self.sudoku_original = sudoku_array\n",
    "#         self.sudoku_array = np.copy(sudoku_array)\n",
    "#         self.all_allowed_values = np.arange(1,self.n+1,1)\n",
    "\n",
    "#         self.subgrids_array = self.get_subgrids()\n",
    "#         self.validate_n()\n",
    "#         # Get occupied values in each row and column\n",
    "#         self.rows_occupied = {i: [v for v in self.sudoku_array[i, :] if v > 0] for i in range(self.n)}\n",
    "#         self.cols_occupied = {i: [v for v in self.sudoku_array[:, i] if v > 0] for i in range(self.n)}\n",
    "#         self.rows_available = {i: [v for v in self.all_allowed_values if v not in self.rows_occupied[i]] for i in range(self.n)}\n",
    "#         self.cols_available = {i: [v for v in self.all_allowed_values if v not in self.cols_occupied[i]] for i in range(self.n)}\n",
    "#         # self.number_rows_availability = {i: [v for v in self.sudoku_array[i, :] if v == i] for i in range(self.n)}\n",
    "#         self.available_cells = list(zip(*np.where(self.sudoku_array == 0)))\n",
    "\n",
    "#     def validate_n(self):\n",
    "#         if self.sqrt_n ** 2 != self.n:\n",
    "#             raise ValueError(f\"Grid size {self.n} is not a perfect square.\")\n",
    "#         if len(self.sudoku_array[:,0]) != self.n:\n",
    "#             raise ValueError(f\"Grid size {self.n} is not a perfect square.\")\n",
    "#         for subgrid_num in range(len(self.subgrids_array)):\n",
    "#             subgrid_values = self.subgrids_array[subgrid_num].flatten()\n",
    "#             if len(set(subgrid_values)) != len([v for v in subgrid_values if v > 0]):\n",
    "#                 raise ValueError(f\"Subgrid {subgrid_num} contains duplicate values.\")\n",
    "        \n",
    "#     def update_availability(self, x, y):\n",
    "#         self.sudoku_array = self.sudoku_array\n",
    "#         self.subgrids_array = self.get_subgrids()\n",
    "#         # Get occupied values in each row and column\n",
    "#         self.rows_occupied[x] = {i: [v for v in self.sudoku_array[i, :] if v > 0] for i in range(self.n)}\n",
    "#         self.cols_occupied[y] = {i: [v for v in self.sudoku_array[:, i] if v > 0] for i in range(self.n)}\n",
    "#         self.rows_available[x] = {i: [v for v in self.all_allowed_values if v not in self.rows_occupied[i]] for i in range(self.n)}\n",
    "#         self.cols_available[y] = {i: [v for v in self.all_allowed_values if v not in self.cols_occupied[i]] for i in range(self.n)}\n",
    "#         self.available_cells = list(zip(*np.where(self.sudoku_array == 0)))\n",
    "    \n",
    "#     def insert_value(self, row, col, value):\n",
    "#         self.sudoku_array[row][col] = value\n",
    "#         self.update_availability(row, col)\n",
    "#         return print(f\"Inserted {value} in row = {row} and column = {col}\")\n",
    "\n",
    "    \n",
    "#     # Function to cut the grid into nxn subgrids\n",
    "#     def get_subgrids(self):\n",
    "#         subgrids = []\n",
    "#         for row in range(0, self.n, self.sqrt_n):    # Loop over rows in steps of n\n",
    "#             for col in range(0, self.n, self.sqrt_n):  # Loop over columns in steps of n\n",
    "#                 # Slice the nxn subgrid\n",
    "#                 subgrid = self.sudoku_array[row:row+self.sqrt_n, col:col+self.sqrt_n]\n",
    "#                 subgrids.append(subgrid)\n",
    "#         return subgrids\n",
    "    \n",
    "#     def identify_subgrid(self, row, col):\n",
    "#         # Determine the row and column of the subgrid\n",
    "#         subgrid_row = row // 3\n",
    "#         subgrid_col = col // 3\n",
    "        \n",
    "#         # Return the subgrid number (for visualization, numbering from 1 to 9)\n",
    "#         subgrid_number = subgrid_row * 3 + subgrid_col\n",
    "        \n",
    "#         return subgrid_number\n",
    "\n",
    "#     def subgrid_features(self, row, col):\n",
    "#         subgrid_num = self.identify_subgrid(row, col)\n",
    "#         occupied_integers = [i for i in self.subgrids_array[subgrid_num].flatten() if i > 0]\n",
    "#         available_integers = [i for i in self.all_allowed_values if i not in occupied_integers]\n",
    "#         return occupied_integers, available_integers\n",
    "    \n",
    "#     def solve_cell_wise(self, row, col):\n",
    "#         cell_row_available = [i for i in self.rows_available[row]]\n",
    "#         cell_col_available = [i for i in self.cols_available[col]]\n",
    "#         cell_subgrid_available = self.subgrid_features(row, col)[1]\n",
    "#         possible_values = list(set(cell_row_available).intersection(cell_col_available).intersection(cell_subgrid_available))\n",
    "#         if len(possible_values) == 1:\n",
    "#             self.insert_value(row, col, possible_values[0])\n",
    "#         return False\n",
    "    \n",
    "#     def subgrid_wise(self, grid_iter):\n",
    "#         row_idx = (grid_iter-1) // self.sqrt_n\n",
    "#         col_idx = (grid_iter-1) % self.sqrt_n\n",
    "#         list_rows = np.arange(row_idx*self.sqrt_n, row_idx*self.sqrt_n+self.sqrt_n)\n",
    "#         list_columns = np.arange(col_idx*self.sqrt_n, col_idx*self.sqrt_n+self.sqrt_n)\n",
    "#         list_values_to_be_filled_in = [i for i in self.all_allowed_values if i not in self.subgrids_array[grid_iter].flatten()]\n",
    "#         for num in list_values_to_be_filled_in:\n",
    "#             list_available_moves = []\n",
    "#             for i in list_rows:\n",
    "#                 if num in self.rows_available[i]:\n",
    "#                     for j in list_columns:\n",
    "#                         if num in self.rows_available[j]:\n",
    "#                             if self.sudoku_array[i][j] > 0:\n",
    "#                                 pass\n",
    "#                             else:\n",
    "#                                 list_available_moves.append([i,j])\n",
    "#                         else:\n",
    "#                             pass\n",
    "#                 else:\n",
    "#                     pass\n",
    "#             if len(list_available_moves) == 1:\n",
    "#                 self.insert_value(i, j, num)\n",
    "#         return print(f\"Did iteration for Grid number: {grid_iter}\")\n",
    "\n",
    "        \n",
    "#         # # cell_row_available = [i for i in self.rows_available[row]]\n",
    "#         # # cell_col_available = [i for i in self.cols_available[col]]\n",
    "#         # # cell_subgrid_available = self.subgrid_features(row, col)[1]\n",
    "#         # return list(set(cell_row_available).intersection(cell_col_available).intersection(cell_subgrid_available))\n",
    "    \n",
    "#     def print_sudoku(self):\n",
    "#         for i in range(self.n):\n",
    "#             if i % self.sqrt_n == 0 and i != 0:\n",
    "#                 print(\"-\" * self.sqrt_n*8)  # Print horizontal line after every 3rd row\n",
    "            \n",
    "#             for j in range(self.n):\n",
    "#                 if j % self.sqrt_n == 0 and j != 0:\n",
    "#                     print(\" | \", end=\"\")  # Print vertical line after every 3rd column\n",
    "#                 if self.sudoku_array[i][j] == 0:\n",
    "#                     cell_value = \".\"\n",
    "#                 else:\n",
    "#                     cell_value = self.sudoku_array[i][j]\n",
    "#                 # Print the cell value, or a dot for empty cells (0)\n",
    "#                 if j == self.n-1:  # End of the row, print the value and a newline\n",
    "#                     print(cell_value)\n",
    "#                 else:\n",
    "#                     print(f\"{cell_value} \", end=\"\")\n",
    "\n",
    "#     def solve_sudoku(self):\n",
    "#         progress = True\n",
    "#         while progress:\n",
    "#             progress = False\n",
    "#             for row, col in self.available_cells:\n",
    "#                 if self.solve_cell_wise(row, col):\n",
    "#                     progress = True  # If we solve at least one cell, continue solving\n",
    "\n",
    "#         if len(self.available_cells) > 0:\n",
    "#             print(\"Couldn't fully solve the Sudoku.\")\n",
    "#         else:\n",
    "#             print(\"Sudoku solved!\")"
   ]
  },
  {
   "cell_type": "code",
   "execution_count": null,
   "metadata": {},
   "outputs": [],
   "source": [
    "import numpy as np\n",
    "\n",
    "class sudoku():\n",
    "    def __init__(self, sudoku_array) -> None:\n",
    "        self.n = len(sudoku_array)\n",
    "        self.sqrt_n = int(np.sqrt(self.n))\n",
    "        self.sudoku_original = sudoku_array\n",
    "        self.sudoku_array = np.copy(sudoku_array)\n",
    "        self.all_allowed_values = np.arange(1, self.n+1, 1)\n",
    "\n",
    "        self.subgrids_array = self.get_subgrids()\n",
    "        self.validate_n()\n",
    "        # Get occupied values in each row and column\n",
    "        self.rows_occupied = {i: [v for v in self.sudoku_array[i, :] if v > 0] for i in range(self.n)}\n",
    "        self.cols_occupied = {i: [v for v in self.sudoku_array[:, i] if v > 0] for i in range(self.n)}\n",
    "        self.rows_available = {i: [v for v in self.all_allowed_values if v not in self.rows_occupied[i]] for i in range(self.n)}\n",
    "        self.cols_available = {i: [v for v in self.all_allowed_values if v not in self.cols_occupied[i]] for i in range(self.n)}\n",
    "        self.available_cells = list(zip(*np.where(self.sudoku_array == 0)))\n",
    "\n",
    "    def validate_n(self):\n",
    "        if self.sqrt_n ** 2 != self.n:\n",
    "            raise ValueError(f\"Grid size {self.n} is not a perfect square.\")\n",
    "        if len(self.sudoku_array[:, 0]) != self.n:\n",
    "            raise ValueError(f\"Grid size {self.n} is not a perfect square.\")\n",
    "        for subgrid_num in range(len(self.subgrids_array)):\n",
    "            subgrid_values = self.subgrids_array[subgrid_num].flatten()\n",
    "            if len(set(subgrid_values)) != len([v for v in subgrid_values]):\n",
    "                raise ValueError(f\"Subgrid {subgrid_num} contains duplicate values.\")\n",
    "\n",
    "    def update_availability(self, x, y):\n",
    "        self.subgrids_array = self.get_subgrids()\n",
    "        # update only the affected row/col\n",
    "        self.rows_occupied[x] = [v for v in self.sudoku_array[x, :] if v > 0]\n",
    "        self.cols_occupied[y] = [v for v in self.sudoku_array[:, y] if v > 0]\n",
    "        self.rows_available[x] = [v for v in self.all_allowed_values if v not in self.rows_occupied[x]]\n",
    "        self.cols_available[y] = [v for v in self.all_allowed_values if v not in self.cols_occupied[y]]\n",
    "        self.available_cells = list(zip(*np.where(self.sudoku_array == 0)))\n",
    "\n",
    "    def insert_value(self, row, col, value):\n",
    "        self.sudoku_array[row][col] = value\n",
    "        self.update_availability(row, col)\n",
    "        print(f\"Inserted {value} in row = {row}, column = {col}\")\n",
    "\n",
    "    # Function to cut the grid into nxn subgrids\n",
    "    def get_subgrids(self):\n",
    "        subgrids = []\n",
    "        for row in range(0, self.n, self.sqrt_n):\n",
    "            for col in range(0, self.n, self.sqrt_n):\n",
    "                subgrid = self.sudoku_array[row:row+self.sqrt_n, col:col+self.sqrt_n]\n",
    "                subgrids.append(subgrid)\n",
    "        return subgrids\n",
    "\n",
    "    def identify_subgrid(self, row, col):\n",
    "        subgrid_row = row // self.sqrt_n\n",
    "        subgrid_col = col // self.sqrt_n\n",
    "        subgrid_number = subgrid_row * self.sqrt_n + subgrid_col\n",
    "        return subgrid_number\n",
    "\n",
    "    def subgrid_features(self, row, col):\n",
    "        subgrid_num = self.identify_subgrid(row, col)\n",
    "        occupied_integers = [i for i in self.subgrids_array[subgrid_num].flatten() if i > 0]\n",
    "        available_integers = [i for i in self.all_allowed_values if i not in occupied_integers]\n",
    "        return occupied_integers, available_integers\n",
    "\n",
    "    def solve_cell_wise(self, row, col):\n",
    "        cell_row_available = self.rows_available[row]\n",
    "        cell_col_available = self.cols_available[col]\n",
    "        cell_subgrid_available = self.subgrid_features(row, col)[1]\n",
    "        possible_values = list(set(cell_row_available).intersection(cell_col_available).intersection(cell_subgrid_available))\n",
    "        if len(possible_values) == 1:\n",
    "            self.insert_value(row, col, possible_values[0])\n",
    "            return True\n",
    "        return False\n",
    "\n",
    "    def subgrid_wise(self, grid_iter):\n",
    "        row_idx = grid_iter // self.sqrt_n\n",
    "        col_idx = grid_iter % self.sqrt_n\n",
    "        list_rows = np.arange(row_idx*self.sqrt_n, (row_idx+1)*self.sqrt_n)\n",
    "        list_columns = np.arange(col_idx*self.sqrt_n, (col_idx+1)*self.sqrt_n)\n",
    "        list_values_to_be_filled_in = [i for i in self.all_allowed_values if i not in self.subgrids_array[grid_iter].flatten()]\n",
    "\n",
    "        progress = False\n",
    "        for num in list_values_to_be_filled_in:\n",
    "            list_available_moves = []\n",
    "            for i in list_rows:\n",
    "                if num in self.rows_available[i]:\n",
    "                    for j in list_columns:\n",
    "                        if num in self.cols_available[j]:\n",
    "                            if self.sudoku_array[i][j] == 0:\n",
    "                                list_available_moves.append([i, j])\n",
    "            if len(list_available_moves) == 1:\n",
    "                i, j = list_available_moves[0]\n",
    "                self.insert_value(i, j, num)\n",
    "                progress = True\n",
    "        return progress\n",
    "\n",
    "    def print_sudoku(self):\n",
    "        for i in range(self.n):\n",
    "            if i % self.sqrt_n == 0 and i != 0:\n",
    "                print(\"-\" * (self.sqrt_n * 8))\n",
    "            for j in range(self.n):\n",
    "                if j % self.sqrt_n == 0 and j != 0:\n",
    "                    print(\" | \", end=\"\")\n",
    "                if self.sudoku_array[i][j] == 0:\n",
    "                    cell_value = \".\"\n",
    "                else:\n",
    "                    cell_value = self.sudoku_array[i][j]\n",
    "                if j == self.n-1:\n",
    "                    print(cell_value)\n",
    "                else:\n",
    "                    print(f\"{cell_value} \", end=\"\")\n",
    "\n",
    "    def solve_sudoku(self):\n",
    "        progress = True\n",
    "        while progress:\n",
    "            progress = False\n",
    "            for row, col in list(self.available_cells):  # copy to avoid mutation issues\n",
    "                if self.solve_cell_wise(row, col):\n",
    "                    progress = True\n",
    "            for grid_iter in range(len(self.subgrids_array)):\n",
    "                if self.subgrid_wise(grid_iter):\n",
    "                    progress = True\n",
    "\n",
    "        if len(self.available_cells) > 0:\n",
    "            print(\"Couldn't fully solve the Sudoku.\")\n",
    "        else:\n",
    "            print(\"Sudoku solved!\")\n"
   ]
  },
  {
   "cell_type": "code",
   "execution_count": null,
   "metadata": {},
   "outputs": [],
   "source": []
  },
  {
   "cell_type": "markdown",
   "metadata": {},
   "source": [
    "## Model configuration: Give a sudoku grid as an input"
   ]
  },
  {
   "cell_type": "code",
   "execution_count": 28,
   "metadata": {},
   "outputs": [],
   "source": [
    "sudoku_grid = np.array([\n",
    "    [5, 7, 0, 6, 9, 0, 0, 0, 0],\n",
    "    [0, 8, 0, 2, 3, 1, 4, 7, 5],\n",
    "    [4, 3, 0, 0, 0, 0, 0, 0, 0],\n",
    "    [9, 0, 6, 1, 4, 0, 7, 0, 3],\n",
    "    [0, 0, 0, 0, 8, 0, 0, 0, 0],\n",
    "    [8, 0, 3, 0, 5, 9, 2, 0, 6],\n",
    "    [0, 0, 0, 0, 0, 0, 0, 4, 7],\n",
    "    [3, 9, 5, 4, 1, 7, 0, 6, 0],\n",
    "    [0, 0, 0, 0, 2, 8, 0, 9, 1]\n",
    "])"
   ]
  },
  {
   "cell_type": "code",
   "execution_count": 29,
   "metadata": {},
   "outputs": [
    {
     "ename": "ValueError",
     "evalue": "Subgrid 0 contains duplicate values.",
     "output_type": "error",
     "traceback": [
      "\u001b[0;31m---------------------------------------------------------------------------\u001b[0m",
      "\u001b[0;31mValueError\u001b[0m                                Traceback (most recent call last)",
      "Cell \u001b[0;32mIn[29], line 1\u001b[0m\n\u001b[0;32m----> 1\u001b[0m n_sudoku \u001b[38;5;241m=\u001b[39m \u001b[43msudoku\u001b[49m\u001b[43m(\u001b[49m\u001b[43msudoku_grid\u001b[49m\u001b[43m)\u001b[49m\n",
      "Cell \u001b[0;32mIn[23], line 12\u001b[0m, in \u001b[0;36msudoku.__init__\u001b[0;34m(self, sudoku_array)\u001b[0m\n\u001b[1;32m      9\u001b[0m \u001b[38;5;28mself\u001b[39m\u001b[38;5;241m.\u001b[39mall_allowed_values \u001b[38;5;241m=\u001b[39m np\u001b[38;5;241m.\u001b[39marange(\u001b[38;5;241m1\u001b[39m, \u001b[38;5;28mself\u001b[39m\u001b[38;5;241m.\u001b[39mn\u001b[38;5;241m+\u001b[39m\u001b[38;5;241m1\u001b[39m, \u001b[38;5;241m1\u001b[39m)\n\u001b[1;32m     11\u001b[0m \u001b[38;5;28mself\u001b[39m\u001b[38;5;241m.\u001b[39msubgrids_array \u001b[38;5;241m=\u001b[39m \u001b[38;5;28mself\u001b[39m\u001b[38;5;241m.\u001b[39mget_subgrids()\n\u001b[0;32m---> 12\u001b[0m \u001b[38;5;28;43mself\u001b[39;49m\u001b[38;5;241;43m.\u001b[39;49m\u001b[43mvalidate_n\u001b[49m\u001b[43m(\u001b[49m\u001b[43m)\u001b[49m\n\u001b[1;32m     13\u001b[0m \u001b[38;5;66;03m# Get occupied values in each row and column\u001b[39;00m\n\u001b[1;32m     14\u001b[0m \u001b[38;5;28mself\u001b[39m\u001b[38;5;241m.\u001b[39mrows_occupied \u001b[38;5;241m=\u001b[39m {i: [v \u001b[38;5;28;01mfor\u001b[39;00m v \u001b[38;5;129;01min\u001b[39;00m \u001b[38;5;28mself\u001b[39m\u001b[38;5;241m.\u001b[39msudoku_array[i, :] \u001b[38;5;28;01mif\u001b[39;00m v \u001b[38;5;241m>\u001b[39m \u001b[38;5;241m0\u001b[39m] \u001b[38;5;28;01mfor\u001b[39;00m i \u001b[38;5;129;01min\u001b[39;00m \u001b[38;5;28mrange\u001b[39m(\u001b[38;5;28mself\u001b[39m\u001b[38;5;241m.\u001b[39mn)}\n",
      "Cell \u001b[0;32mIn[23], line 28\u001b[0m, in \u001b[0;36msudoku.validate_n\u001b[0;34m(self)\u001b[0m\n\u001b[1;32m     26\u001b[0m subgrid_values \u001b[38;5;241m=\u001b[39m \u001b[38;5;28mself\u001b[39m\u001b[38;5;241m.\u001b[39msubgrids_array[subgrid_num]\u001b[38;5;241m.\u001b[39mflatten()\n\u001b[1;32m     27\u001b[0m \u001b[38;5;28;01mif\u001b[39;00m \u001b[38;5;28mlen\u001b[39m(\u001b[38;5;28mset\u001b[39m(subgrid_values)) \u001b[38;5;241m!=\u001b[39m \u001b[38;5;28mlen\u001b[39m([v \u001b[38;5;28;01mfor\u001b[39;00m v \u001b[38;5;129;01min\u001b[39;00m subgrid_values \u001b[38;5;28;01mif\u001b[39;00m v \u001b[38;5;241m>\u001b[39m \u001b[38;5;241m0\u001b[39m]):\n\u001b[0;32m---> 28\u001b[0m     \u001b[38;5;28;01mraise\u001b[39;00m \u001b[38;5;167;01mValueError\u001b[39;00m(\u001b[38;5;124mf\u001b[39m\u001b[38;5;124m\"\u001b[39m\u001b[38;5;124mSubgrid \u001b[39m\u001b[38;5;132;01m{\u001b[39;00msubgrid_num\u001b[38;5;132;01m}\u001b[39;00m\u001b[38;5;124m contains duplicate values.\u001b[39m\u001b[38;5;124m\"\u001b[39m)\n",
      "\u001b[0;31mValueError\u001b[0m: Subgrid 0 contains duplicate values."
     ]
    }
   ],
   "source": [
    "n_sudoku = sudoku(sudoku_grid)"
   ]
  },
  {
   "cell_type": "code",
   "execution_count": 26,
   "metadata": {},
   "outputs": [
    {
     "name": "stdout",
     "output_type": "stream",
     "text": [
      "5 7 .  | 6 9 4  | . . .\n",
      "6 8 .  | 2 3 1  | 4 7 5\n",
      "4 3 .  | . 7 .  | . . .\n",
      "------------------------\n",
      "9 . 6  | 1 4 2  | 7 . 3\n",
      ". . .  | . 8 .  | . . .\n",
      "8 . 3  | 7 5 9  | 2 . 6\n",
      "------------------------\n",
      ". . .  | . . .  | . 4 7\n",
      "3 9 5  | 4 1 7  | 8 6 2\n",
      ". . .  | . 2 8  | . 9 1\n"
     ]
    }
   ],
   "source": [
    "n_sudoku.print_sudoku()"
   ]
  },
  {
   "cell_type": "code",
   "execution_count": 27,
   "metadata": {},
   "outputs": [
    {
     "name": "stdout",
     "output_type": "stream",
     "text": [
      "Couldn't fully solve the Sudoku.\n"
     ]
    }
   ],
   "source": [
    "n_sudoku.solve_sudoku()"
   ]
  },
  {
   "cell_type": "code",
   "execution_count": 29,
   "metadata": {},
   "outputs": [
    {
     "data": {
      "text/plain": [
       "2"
      ]
     },
     "execution_count": 29,
     "metadata": {},
     "output_type": "execute_result"
    }
   ],
   "source": [
    "(8 - 1) // 3"
   ]
  },
  {
   "cell_type": "code",
   "execution_count": 9,
   "metadata": {},
   "outputs": [],
   "source": [
    "n = 9\n",
    "row_idx = (n-1) // 3\n",
    "col_idx = (n-1) % 3\n",
    "get_list_rows = np.arange(row_idx*3, row_idx*3+3)\n",
    "get_list_columns = np.arange(col_idx*3, col_idx*3+3)"
   ]
  },
  {
   "cell_type": "code",
   "execution_count": 10,
   "metadata": {},
   "outputs": [
    {
     "data": {
      "text/plain": [
       "array([6, 7, 8])"
      ]
     },
     "execution_count": 10,
     "metadata": {},
     "output_type": "execute_result"
    }
   ],
   "source": [
    "get_list_rows"
   ]
  },
  {
   "cell_type": "code",
   "execution_count": 11,
   "metadata": {},
   "outputs": [
    {
     "data": {
      "text/plain": [
       "array([6, 7, 8])"
      ]
     },
     "execution_count": 11,
     "metadata": {},
     "output_type": "execute_result"
    }
   ],
   "source": [
    "get_list_columns"
   ]
  },
  {
   "cell_type": "code",
   "execution_count": null,
   "metadata": {},
   "outputs": [],
   "source": []
  }
 ],
 "metadata": {
  "kernelspec": {
   "display_name": "myenv",
   "language": "python",
   "name": "python3"
  },
  "language_info": {
   "codemirror_mode": {
    "name": "ipython",
    "version": 3
   },
   "file_extension": ".py",
   "mimetype": "text/x-python",
   "name": "python",
   "nbconvert_exporter": "python",
   "pygments_lexer": "ipython3",
   "version": "3.13.0"
  }
 },
 "nbformat": 4,
 "nbformat_minor": 2
}
